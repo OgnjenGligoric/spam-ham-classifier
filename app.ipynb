{
 "cells": [
  {
   "cell_type": "markdown",
   "metadata": {},
   "source": [
    "# Email Spam Classification\n",
    "\n",
    "In this notebook, we will:\n",
    "1. Load and preprocess the dataset.\n",
    "2. Transform the text data using TF-IDF vectorization.\n",
    "3. Train and evaluate different machine learning models (Naive Bayes, SVM, and Neural Network).\n",
    "4. Visualize the results using graphs."
   ],
   "id": "b7a58562a8dffdb5"
  },
  {
   "cell_type": "code",
   "execution_count": null,
   "metadata": {
    "is_executing": true
   },
   "outputs": [],
   "source": [
    "import pandas as pd\n",
    "from sklearn.model_selection import train_test_split\n",
    "from sklearn.feature_extraction.text import TfidfVectorizer\n",
    "from sklearn.naive_bayes import MultinomialNB\n",
    "from sklearn.svm import SVC\n",
    "from sklearn.neural_network import MLPClassifier\n",
    "from sklearn.metrics import accuracy_score, precision_score, recall_score, f1_score\n",
    "import matplotlib.pyplot as plt\n",
    "import seaborn as sns\n"
   ],
   "id": "43ec1960c645e965"
  },
  {
   "cell_type": "markdown",
   "metadata": {},
   "source": [
    "## Load and Preprocess the Dataset"
   ],
   "id": "64c9d72386a0436a"
  },
  {
   "cell_type": "code",
   "execution_count": null,
   "metadata": {
    "is_executing": true
   },
   "outputs": [],
   "source": [
    "# Load the dataset\n",
    "data = pd.read_csv('combined_data.csv')\n",
    "data.head()"
   ],
   "id": "3d0ec263d3e98cd"
  },
  {
   "cell_type": "markdown",
   "metadata": {},
   "source": [
    "## Split the Data"
   ],
   "id": "bf1ba9f448d4ea64"
  },
  {
   "cell_type": "code",
   "execution_count": null,
   "metadata": {
    "is_executing": true
   },
   "outputs": [],
   "source": [
    "# Split the dataset into training and test sets\n",
    "X_train, X_test, y_train, y_test = train_test_split(data['text'], data['label'], test_size=0.2, random_state=42)"
   ],
   "id": "51e33515c289f2e6"
  },
  {
   "cell_type": "markdown",
   "metadata": {},
   "source": [
    "## Transform the Text Data"
   ],
   "id": "98d2b4079c9bbb80"
  },
  {
   "cell_type": "code",
   "execution_count": null,
   "metadata": {
    "is_executing": true
   },
   "outputs": [],
   "source": [
    "# Transform the text data to TF-IDF features\n",
    "vectorizer = TfidfVectorizer()\n",
    "X_train_tfidf = vectorizer.fit_transform(X_train)\n",
    "X_test_tfidf = vectorizer.transform(X_test)"
   ],
   "id": "a25c5da218139897"
  },
  {
   "cell_type": "markdown",
   "metadata": {},
   "source": [
    "## Train and Evaluate Models"
   ],
   "id": "c1b1345faa3566dc"
  },
  {
   "cell_type": "code",
   "execution_count": null,
   "metadata": {
    "is_executing": true
   },
   "outputs": [],
   "source": [
    "# Function to train and evaluate a model\n",
    "def train_and_evaluate_model(model, X_train, X_test, y_train, y_test):\n",
    "    model.fit(X_train, y_train)\n",
    "    y_pred = model.predict(X_test)\n",
    "    accuracy = accuracy_score(y_test, y_pred)\n",
    "    precision = precision_score(y_test, y_pred)\n",
    "    recall = recall_score(y_test, y_pred)\n",
    "    f1 = f1_score(y_test, y_pred)\n",
    "    return accuracy, precision, recall, f1"
   ],
   "id": "ef25dca7a2343f4d"
  },
  {
   "cell_type": "code",
   "execution_count": null,
   "metadata": {
    "is_executing": true
   },
   "outputs": [],
   "source": [
    "# Initialize models\n",
    "nb_model = MultinomialNB()\n",
    "svm_model = SVC()\n",
    "nn_model = MLPClassifier(hidden_layer_sizes=(100,), max_iter=300)\n",
    "\n",
    "# Train and evaluate Naive Bayes model\n",
    "nb_metrics = train_and_evaluate_model(nb_model, X_train_tfidf, X_test_tfidf, y_train, y_test)\n",
    "print(f\"Naive Bayes - Accuracy: {nb_metrics[0]}, Precision: {nb_metrics[1]}, Recall: {nb_metrics[2]}, F1: {nb_metrics[3]}\")\n",
    "\n",
    "# Train and evaluate SVM model\n",
    "svm_metrics = train_and_evaluate_model(svm_model, X_train_tfidf, X_test_tfidf, y_train, y_test)\n",
    "print(f\"SVM - Accuracy: {svm_metrics[0]}, Precision: {svm_metrics[1]}, Recall: {svm_metrics[2]}, F1: {svm_metrics[3]}\")\n",
    "\n",
    "# Train and evaluate Neural Network model\n",
    "nn_metrics = train_and_evaluate_model(nn_model, X_train_tfidf, X_test_tfidf, y_train, y_test)\n",
    "print(f\"Neural Network - Accuracy: {nn_metrics[0]}, Precision: {nn_metrics[1]}, Recall: {nn_metrics[2]}, F1: {nn_metrics[3]}\")"
   ],
   "id": "172a71247719044e"
  },
  {
   "cell_type": "markdown",
   "metadata": {},
   "source": [
    "## Visualize the Results"
   ],
   "id": "fbb65b06e7f099c4"
  },
  {
   "cell_type": "code",
   "execution_count": null,
   "metadata": {
    "is_executing": true
   },
   "outputs": [],
   "source": [
    "# Create a DataFrame for the metrics\n",
    "metrics_df = pd.DataFrame({\n",
    "    'Model': ['Naive Bayes', 'SVM', 'Neural Network'],\n",
    "    'Accuracy': [nb_metrics[0], svm_metrics[0], nn_metrics[0]],\n",
    "    'Precision': [nb_metrics[1], svm_metrics[1], nn_metrics[1]],\n",
    "    'Recall': [nb_metrics[2], svm_metrics[2], nn_metrics[2]],\n",
    "    'F1 Score': [nb_metrics[3], svm_metrics[3], nn_metrics[3]]\n",
    "})\n",
    "\n",
    "# Plot the metrics\n",
    "plt.figure(figsize=(10, 6))\n",
    "sns.barplot(x='Model', y='Accuracy', data=metrics_df)\n",
    "plt.title('Accuracy of Models')\n",
    "plt.show()\n",
    "\n",
    "plt.figure(figsize=(10, 6))\n",
    "sns.barplot(x='Model', y='Precision', data=metrics_df)\n",
    "plt.title('Precision of Models')\n",
    "plt.show()\n",
    "\n",
    "plt.figure(figsize=(10, 6))\n",
    "sns.barplot(x='Model', y='Recall', data=metrics_df)\n",
    "plt.title('Recall of Models')\n",
    "plt.show()\n",
    "\n",
    "plt.figure(figsize=(10, 6))\n",
    "sns.barplot(x='Model', y='F1 Score', data=metrics_df)\n",
    "plt.title('F1 Score of Models')\n",
    "plt.show()"
   ],
   "id": "9012ae0dc2f21bff"
  },
  {
   "cell_type": "code",
   "outputs": [],
   "source": [],
   "metadata": {
    "collapsed": false
   },
   "id": "44d63caa7e79bff1"
  }
 ],
 "metadata": {
  "kernelspec": {
   "display_name": "Python 3",
   "language": "python",
   "name": "python3"
  },
  "language_info": {
   "codemirror_mode": {
    "name": "ipython",
    "version": 3
   },
   "file_extension": ".py",
   "mimetype": "text/x-python",
   "name": "python",
   "nbconvert_exporter": "python",
   "pygments_lexer": "ipython3",
   "version": "3.8.5"
  }
 },
 "nbformat": 4,
 "nbformat_minor": 5
}
